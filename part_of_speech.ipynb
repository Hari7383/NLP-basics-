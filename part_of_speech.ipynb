{
  "nbformat": 4,
  "nbformat_minor": 0,
  "metadata": {
    "colab": {
      "provenance": []
    },
    "kernelspec": {
      "name": "python3",
      "display_name": "Python 3"
    },
    "language_info": {
      "name": "python"
    }
  },
  "cells": [
    {
      "cell_type": "code",
      "execution_count": null,
      "metadata": {
        "id": "avAfkp-P7ZVb"
      },
      "outputs": [],
      "source": [
        "import spacy"
      ]
    },
    {
      "cell_type": "code",
      "source": [
        "nlp = spacy.load(\"en_core_web_sm\")\n",
        "doc = nlp(\"Elon flew to mars yesterday. He carried biryani masala with him\")\n",
        "\n",
        "for word in doc:\n",
        "  print(word)"
      ],
      "metadata": {
        "colab": {
          "base_uri": "https://localhost:8080/"
        },
        "id": "31I37te07dne",
        "outputId": "0bf4edc4-85c5-48a9-b530-28a99346c991"
      },
      "execution_count": null,
      "outputs": [
        {
          "output_type": "stream",
          "name": "stdout",
          "text": [
            "Elon\n",
            "flew\n",
            "to\n",
            "mars\n",
            "yesterday\n",
            ".\n",
            "He\n",
            "carried\n",
            "biryani\n",
            "masala\n",
            "with\n",
            "him\n"
          ]
        }
      ]
    },
    {
      "cell_type": "code",
      "source": [
        "for token in doc:\n",
        "  print(token, \"|\", token.pos_, \"|\", spacy.explain(token.pos_))"
      ],
      "metadata": {
        "colab": {
          "base_uri": "https://localhost:8080/"
        },
        "id": "i_S2fpga8Fm_",
        "outputId": "535a558c-aa8f-4f71-ed94-978fed66fecf"
      },
      "execution_count": null,
      "outputs": [
        {
          "output_type": "stream",
          "name": "stdout",
          "text": [
            "Elon | PROPN | proper noun\n",
            "flew | VERB | verb\n",
            "to | ADP | adposition\n",
            "mars | NOUN | noun\n",
            "yesterday | NOUN | noun\n",
            ". | PUNCT | punctuation\n",
            "He | PRON | pronoun\n",
            "carried | VERB | verb\n",
            "biryani | ADJ | adjective\n",
            "masala | NOUN | noun\n",
            "with | ADP | adposition\n",
            "him | PRON | pronoun\n"
          ]
        }
      ]
    },
    {
      "cell_type": "code",
      "source": [
        "doc = nlp(\"Wow!,Dr. Strange made 265 million on first day\")\n",
        "for token in doc:\n",
        "  print(token, \"|\", token.pos_, \"|\", spacy.explain(token.pos_), \"|\", token.tag_, \"|\", spacy.explain(token.tag_))"
      ],
      "metadata": {
        "colab": {
          "base_uri": "https://localhost:8080/"
        },
        "id": "7gV27oYx9VIB",
        "outputId": "51db20a1-2b81-4600-e3ed-fae92eefd2a7"
      },
      "execution_count": null,
      "outputs": [
        {
          "output_type": "stream",
          "name": "stdout",
          "text": [
            "Wow!,Dr | INTJ | interjection | UH | interjection\n",
            ". | PUNCT | punctuation | . | punctuation mark, sentence closer\n",
            "Strange | PROPN | proper noun | NNP | noun, proper singular\n",
            "made | VERB | verb | VBD | verb, past tense\n",
            "265 | NUM | numeral | CD | cardinal number\n",
            "million | NUM | numeral | CD | cardinal number\n",
            "on | ADP | adposition | IN | conjunction, subordinating or preposition\n",
            "first | ADJ | adjective | JJ | adjective (English), other noun-modifier (Chinese)\n",
            "day | NOUN | noun | NN | noun, singular or mass\n"
          ]
        }
      ]
    },
    {
      "cell_type": "code",
      "source": [
        "doc = nlp(\"He quits the job\")\n",
        "\n",
        "print(doc[1].text, \"|\", doc[1].tag_, \"|\", spacy.explain(doc[1].tag_))"
      ],
      "metadata": {
        "colab": {
          "base_uri": "https://localhost:8080/"
        },
        "id": "X48kOhOBAwUI",
        "outputId": "82dbc805-f271-4c54-b884-a5a6ed7aa4b6"
      },
      "execution_count": null,
      "outputs": [
        {
          "output_type": "stream",
          "name": "stdout",
          "text": [
            "quits | VBZ | verb, 3rd person singular present\n"
          ]
        }
      ]
    },
    {
      "cell_type": "code",
      "source": [
        "doc = nlp(\"He quit the job\")\n",
        "\n",
        "print(doc[1].text, \"|\", doc[1].tag_, \"|\", spacy.explain(doc[1].tag_))"
      ],
      "metadata": {
        "colab": {
          "base_uri": "https://localhost:8080/"
        },
        "id": "q9jS1rFyBAi0",
        "outputId": "fe68935a-5a6f-4629-cbae-a24d7c92b2b8"
      },
      "execution_count": null,
      "outputs": [
        {
          "output_type": "stream",
          "name": "stdout",
          "text": [
            "quit | VBD | verb, past tense\n"
          ]
        }
      ]
    },
    {
      "cell_type": "code",
      "source": [
        "report = \"\"\" Microsoft Corp. today announced the following results for the quarter ended December 31, 2024, as compared to the corresponding period of last fiscal year:\n",
        "\n",
        "·         Revenue was $69.6 billion and increased 12%\n",
        "\n",
        "·         Operating income was $31.7 billion and increased 17% (up 16% in constant currency)\n",
        "\n",
        "·         Net income was $24.1 billion and increased 10%\n",
        "\n",
        "·         Diluted earnings per share was $3.23 and increased 10%\n",
        "\n",
        "“We are innovating across our tech stack and helping customers unlock the full ROI of AI to capture the massive opportunity ahead,\" said Satya Nadella, chairman and chief executive officer of Microsoft. “Already, our AI business has surpassed an annual revenue run rate of $13 billion, up 175% year-over-year.”\n",
        "“This quarter Microsoft Cloud revenue was $40.9 billion, up 21% year-over-year,” said Amy Hood, executive vice president and chief financial officer of Microsoft etc. ”We remain committed to balancing operational discipline with continued investments in our cloud and AI infrastructure.”\"\"\""
      ],
      "metadata": {
        "id": "gbm5g-_iCQkt"
      },
      "execution_count": null,
      "outputs": []
    },
    {
      "cell_type": "code",
      "source": [
        "doc = nlp(report)\n",
        "for token in doc:\n",
        "  print(token, \"|\", token.pos_, \"|\", spacy.explain(token.pos_))"
      ],
      "metadata": {
        "colab": {
          "base_uri": "https://localhost:8080/"
        },
        "id": "gE7lj5qBCQeb",
        "outputId": "2199e4ee-2387-45b7-9782-3e03d07d147a"
      },
      "execution_count": null,
      "outputs": [
        {
          "output_type": "stream",
          "name": "stdout",
          "text": [
            "  | SPACE | space\n",
            "Microsoft | PROPN | proper noun\n",
            "Corp. | PROPN | proper noun\n",
            "today | NOUN | noun\n",
            "announced | VERB | verb\n",
            "the | DET | determiner\n",
            "following | VERB | verb\n",
            "results | NOUN | noun\n",
            "for | ADP | adposition\n",
            "the | DET | determiner\n",
            "quarter | NOUN | noun\n",
            "ended | VERB | verb\n",
            "December | PROPN | proper noun\n",
            "31 | NUM | numeral\n",
            ", | PUNCT | punctuation\n",
            "2024 | NUM | numeral\n",
            ", | PUNCT | punctuation\n",
            "as | SCONJ | subordinating conjunction\n",
            "compared | VERB | verb\n",
            "to | ADP | adposition\n",
            "the | DET | determiner\n",
            "corresponding | ADJ | adjective\n",
            "period | NOUN | noun\n",
            "of | ADP | adposition\n",
            "last | ADJ | adjective\n",
            "fiscal | ADJ | adjective\n",
            "year | NOUN | noun\n",
            ": | PUNCT | punctuation\n",
            "\n",
            "\n",
            " | SPACE | space\n",
            "· | PUNCT | punctuation\n",
            "         | SPACE | space\n",
            "Revenue | PROPN | proper noun\n",
            "was | AUX | auxiliary\n",
            "$ | SYM | symbol\n",
            "69.6 | NUM | numeral\n",
            "billion | NUM | numeral\n",
            "and | CCONJ | coordinating conjunction\n",
            "increased | VERB | verb\n",
            "12 | NUM | numeral\n",
            "% | NOUN | noun\n",
            "\n",
            "\n",
            " | SPACE | space\n",
            "· | PUNCT | punctuation\n",
            "         | SPACE | space\n",
            "Operating | NOUN | noun\n",
            "income | NOUN | noun\n",
            "was | AUX | auxiliary\n",
            "$ | SYM | symbol\n",
            "31.7 | NUM | numeral\n",
            "billion | NUM | numeral\n",
            "and | CCONJ | coordinating conjunction\n",
            "increased | VERB | verb\n",
            "17 | NUM | numeral\n",
            "% | NOUN | noun\n",
            "( | PUNCT | punctuation\n",
            "up | ADV | adverb\n",
            "16 | NUM | numeral\n",
            "% | NOUN | noun\n",
            "in | ADP | adposition\n",
            "constant | ADJ | adjective\n",
            "currency | NOUN | noun\n",
            ") | PUNCT | punctuation\n",
            "\n",
            "\n",
            " | SPACE | space\n",
            "· | PUNCT | punctuation\n",
            "         | SPACE | space\n",
            "Net | ADJ | adjective\n",
            "income | NOUN | noun\n",
            "was | AUX | auxiliary\n",
            "$ | SYM | symbol\n",
            "24.1 | NUM | numeral\n",
            "billion | NUM | numeral\n",
            "and | CCONJ | coordinating conjunction\n",
            "increased | VERB | verb\n",
            "10 | NUM | numeral\n",
            "% | NOUN | noun\n",
            "\n",
            "\n",
            " | SPACE | space\n",
            "· | PUNCT | punctuation\n",
            "         | SPACE | space\n",
            "Diluted | VERB | verb\n",
            "earnings | NOUN | noun\n",
            "per | ADP | adposition\n",
            "share | NOUN | noun\n",
            "was | AUX | auxiliary\n",
            "$ | SYM | symbol\n",
            "3.23 | NUM | numeral\n",
            "and | CCONJ | coordinating conjunction\n",
            "increased | VERB | verb\n",
            "10 | NUM | numeral\n",
            "% | NOUN | noun\n",
            "\n",
            "\n",
            " | SPACE | space\n",
            "“ | PUNCT | punctuation\n",
            "We | PRON | pronoun\n",
            "are | AUX | auxiliary\n",
            "innovating | VERB | verb\n",
            "across | ADP | adposition\n",
            "our | PRON | pronoun\n",
            "tech | NOUN | noun\n",
            "stack | NOUN | noun\n",
            "and | CCONJ | coordinating conjunction\n",
            "helping | VERB | verb\n",
            "customers | NOUN | noun\n",
            "unlock | VERB | verb\n",
            "the | DET | determiner\n",
            "full | ADJ | adjective\n",
            "ROI | NOUN | noun\n",
            "of | ADP | adposition\n",
            "AI | PROPN | proper noun\n",
            "to | PART | particle\n",
            "capture | VERB | verb\n",
            "the | DET | determiner\n",
            "massive | ADJ | adjective\n",
            "opportunity | NOUN | noun\n",
            "ahead | ADV | adverb\n",
            ", | PUNCT | punctuation\n",
            "\" | PUNCT | punctuation\n",
            "said | VERB | verb\n",
            "Satya | PROPN | proper noun\n",
            "Nadella | PROPN | proper noun\n",
            ", | PUNCT | punctuation\n",
            "chairman | NOUN | noun\n",
            "and | CCONJ | coordinating conjunction\n",
            "chief | ADJ | adjective\n",
            "executive | ADJ | adjective\n",
            "officer | NOUN | noun\n",
            "of | ADP | adposition\n",
            "Microsoft | PROPN | proper noun\n",
            ". | PUNCT | punctuation\n",
            "“ | PUNCT | punctuation\n",
            "Already | ADV | adverb\n",
            ", | PUNCT | punctuation\n",
            "our | PRON | pronoun\n",
            "AI | PROPN | proper noun\n",
            "business | NOUN | noun\n",
            "has | AUX | auxiliary\n",
            "surpassed | VERB | verb\n",
            "an | DET | determiner\n",
            "annual | ADJ | adjective\n",
            "revenue | NOUN | noun\n",
            "run | NOUN | noun\n",
            "rate | NOUN | noun\n",
            "of | ADP | adposition\n",
            "$ | SYM | symbol\n",
            "13 | NUM | numeral\n",
            "billion | NUM | numeral\n",
            ", | PUNCT | punctuation\n",
            "up | ADV | adverb\n",
            "175 | NUM | numeral\n",
            "% | NOUN | noun\n",
            "year | NOUN | noun\n",
            "- | PUNCT | punctuation\n",
            "over | ADP | adposition\n",
            "- | PUNCT | punctuation\n",
            "year | NOUN | noun\n",
            ". | PUNCT | punctuation\n",
            "” | PUNCT | punctuation\n",
            "\n",
            " | SPACE | space\n",
            "“ | PUNCT | punctuation\n",
            "This | DET | determiner\n",
            "quarter | NOUN | noun\n",
            "Microsoft | PROPN | proper noun\n",
            "Cloud | PROPN | proper noun\n",
            "revenue | NOUN | noun\n",
            "was | AUX | auxiliary\n",
            "$ | SYM | symbol\n",
            "40.9 | NUM | numeral\n",
            "billion | NUM | numeral\n",
            ", | PUNCT | punctuation\n",
            "up | ADV | adverb\n",
            "21 | NUM | numeral\n",
            "% | NOUN | noun\n",
            "year | NOUN | noun\n",
            "- | PUNCT | punctuation\n",
            "over | ADP | adposition\n",
            "- | PUNCT | punctuation\n",
            "year | NOUN | noun\n",
            ", | PUNCT | punctuation\n",
            "” | PUNCT | punctuation\n",
            "said | VERB | verb\n",
            "Amy | PROPN | proper noun\n",
            "Hood | PROPN | proper noun\n",
            ", | PUNCT | punctuation\n",
            "executive | ADJ | adjective\n",
            "vice | NOUN | noun\n",
            "president | NOUN | noun\n",
            "and | CCONJ | coordinating conjunction\n",
            "chief | ADJ | adjective\n",
            "financial | ADJ | adjective\n",
            "officer | NOUN | noun\n",
            "of | ADP | adposition\n",
            "Microsoft | PROPN | proper noun\n",
            "etc | X | other\n",
            ". | PUNCT | punctuation\n",
            "” | PUNCT | punctuation\n",
            "We | PRON | pronoun\n",
            "remain | VERB | verb\n",
            "committed | ADJ | adjective\n",
            "to | ADP | adposition\n",
            "balancing | VERB | verb\n",
            "operational | ADJ | adjective\n",
            "discipline | NOUN | noun\n",
            "with | ADP | adposition\n",
            "continued | VERB | verb\n",
            "investments | NOUN | noun\n",
            "in | ADP | adposition\n",
            "our | PRON | pronoun\n",
            "cloud | NOUN | noun\n",
            "and | CCONJ | coordinating conjunction\n",
            "AI | PROPN | proper noun\n",
            "infrastructure | NOUN | noun\n",
            ". | PUNCT | punctuation\n",
            "” | PUNCT | punctuation\n"
          ]
        }
      ]
    },
    {
      "cell_type": "code",
      "source": [
        "#How to remove unwanted char\n",
        "\n",
        "for token in doc:\n",
        "  if token.pos_ in [\"SPACE\", \"PUNCT\", \"X\"]:\n",
        "    print(token, \"|\", token.pos_, \"|\", spacy.explain(token.pos_))"
      ],
      "metadata": {
        "colab": {
          "base_uri": "https://localhost:8080/"
        },
        "id": "LtgvN4vKGZ3C",
        "outputId": "5345aad2-3013-4184-b70e-2fc46f0882a3"
      },
      "execution_count": null,
      "outputs": [
        {
          "output_type": "stream",
          "name": "stdout",
          "text": [
            "  | SPACE | space\n",
            ", | PUNCT | punctuation\n",
            ", | PUNCT | punctuation\n",
            ": | PUNCT | punctuation\n",
            "\n",
            "\n",
            " | SPACE | space\n",
            "· | PUNCT | punctuation\n",
            "         | SPACE | space\n",
            "\n",
            "\n",
            " | SPACE | space\n",
            "· | PUNCT | punctuation\n",
            "         | SPACE | space\n",
            "( | PUNCT | punctuation\n",
            ") | PUNCT | punctuation\n",
            "\n",
            "\n",
            " | SPACE | space\n",
            "· | PUNCT | punctuation\n",
            "         | SPACE | space\n",
            "\n",
            "\n",
            " | SPACE | space\n",
            "· | PUNCT | punctuation\n",
            "         | SPACE | space\n",
            "\n",
            "\n",
            " | SPACE | space\n",
            "“ | PUNCT | punctuation\n",
            ", | PUNCT | punctuation\n",
            "\" | PUNCT | punctuation\n",
            ", | PUNCT | punctuation\n",
            ". | PUNCT | punctuation\n",
            "“ | PUNCT | punctuation\n",
            ", | PUNCT | punctuation\n",
            ", | PUNCT | punctuation\n",
            "- | PUNCT | punctuation\n",
            "- | PUNCT | punctuation\n",
            ". | PUNCT | punctuation\n",
            "” | PUNCT | punctuation\n",
            "\n",
            " | SPACE | space\n",
            "“ | PUNCT | punctuation\n",
            ", | PUNCT | punctuation\n",
            "- | PUNCT | punctuation\n",
            "- | PUNCT | punctuation\n",
            ", | PUNCT | punctuation\n",
            "” | PUNCT | punctuation\n",
            ", | PUNCT | punctuation\n",
            "etc | X | other\n",
            ". | PUNCT | punctuation\n",
            "” | PUNCT | punctuation\n",
            ". | PUNCT | punctuation\n",
            "” | PUNCT | punctuation\n"
          ]
        }
      ]
    },
    {
      "cell_type": "code",
      "source": [
        "#revers the if condition to get remove unwanted char\n",
        "for token in doc:\n",
        "  if token.pos_ not in [\"SPACE\", \"PUNCT\", \"X\"]:\n",
        "    print(token, \"|\", token.pos_, \"|\", spacy.explain(token.pos_))"
      ],
      "metadata": {
        "colab": {
          "base_uri": "https://localhost:8080/"
        },
        "id": "-2JxpmMEGnC0",
        "outputId": "0b9e82aa-c1a5-480c-e9f9-a6b782986fc0"
      },
      "execution_count": null,
      "outputs": [
        {
          "output_type": "stream",
          "name": "stdout",
          "text": [
            "Microsoft | PROPN | proper noun\n",
            "Corp. | PROPN | proper noun\n",
            "today | NOUN | noun\n",
            "announced | VERB | verb\n",
            "the | DET | determiner\n",
            "following | VERB | verb\n",
            "results | NOUN | noun\n",
            "for | ADP | adposition\n",
            "the | DET | determiner\n",
            "quarter | NOUN | noun\n",
            "ended | VERB | verb\n",
            "December | PROPN | proper noun\n",
            "31 | NUM | numeral\n",
            "2024 | NUM | numeral\n",
            "as | SCONJ | subordinating conjunction\n",
            "compared | VERB | verb\n",
            "to | ADP | adposition\n",
            "the | DET | determiner\n",
            "corresponding | ADJ | adjective\n",
            "period | NOUN | noun\n",
            "of | ADP | adposition\n",
            "last | ADJ | adjective\n",
            "fiscal | ADJ | adjective\n",
            "year | NOUN | noun\n",
            "Revenue | PROPN | proper noun\n",
            "was | AUX | auxiliary\n",
            "$ | SYM | symbol\n",
            "69.6 | NUM | numeral\n",
            "billion | NUM | numeral\n",
            "and | CCONJ | coordinating conjunction\n",
            "increased | VERB | verb\n",
            "12 | NUM | numeral\n",
            "% | NOUN | noun\n",
            "Operating | NOUN | noun\n",
            "income | NOUN | noun\n",
            "was | AUX | auxiliary\n",
            "$ | SYM | symbol\n",
            "31.7 | NUM | numeral\n",
            "billion | NUM | numeral\n",
            "and | CCONJ | coordinating conjunction\n",
            "increased | VERB | verb\n",
            "17 | NUM | numeral\n",
            "% | NOUN | noun\n",
            "up | ADV | adverb\n",
            "16 | NUM | numeral\n",
            "% | NOUN | noun\n",
            "in | ADP | adposition\n",
            "constant | ADJ | adjective\n",
            "currency | NOUN | noun\n",
            "Net | ADJ | adjective\n",
            "income | NOUN | noun\n",
            "was | AUX | auxiliary\n",
            "$ | SYM | symbol\n",
            "24.1 | NUM | numeral\n",
            "billion | NUM | numeral\n",
            "and | CCONJ | coordinating conjunction\n",
            "increased | VERB | verb\n",
            "10 | NUM | numeral\n",
            "% | NOUN | noun\n",
            "Diluted | VERB | verb\n",
            "earnings | NOUN | noun\n",
            "per | ADP | adposition\n",
            "share | NOUN | noun\n",
            "was | AUX | auxiliary\n",
            "$ | SYM | symbol\n",
            "3.23 | NUM | numeral\n",
            "and | CCONJ | coordinating conjunction\n",
            "increased | VERB | verb\n",
            "10 | NUM | numeral\n",
            "% | NOUN | noun\n",
            "We | PRON | pronoun\n",
            "are | AUX | auxiliary\n",
            "innovating | VERB | verb\n",
            "across | ADP | adposition\n",
            "our | PRON | pronoun\n",
            "tech | NOUN | noun\n",
            "stack | NOUN | noun\n",
            "and | CCONJ | coordinating conjunction\n",
            "helping | VERB | verb\n",
            "customers | NOUN | noun\n",
            "unlock | VERB | verb\n",
            "the | DET | determiner\n",
            "full | ADJ | adjective\n",
            "ROI | NOUN | noun\n",
            "of | ADP | adposition\n",
            "AI | PROPN | proper noun\n",
            "to | PART | particle\n",
            "capture | VERB | verb\n",
            "the | DET | determiner\n",
            "massive | ADJ | adjective\n",
            "opportunity | NOUN | noun\n",
            "ahead | ADV | adverb\n",
            "said | VERB | verb\n",
            "Satya | PROPN | proper noun\n",
            "Nadella | PROPN | proper noun\n",
            "chairman | NOUN | noun\n",
            "and | CCONJ | coordinating conjunction\n",
            "chief | ADJ | adjective\n",
            "executive | ADJ | adjective\n",
            "officer | NOUN | noun\n",
            "of | ADP | adposition\n",
            "Microsoft | PROPN | proper noun\n",
            "Already | ADV | adverb\n",
            "our | PRON | pronoun\n",
            "AI | PROPN | proper noun\n",
            "business | NOUN | noun\n",
            "has | AUX | auxiliary\n",
            "surpassed | VERB | verb\n",
            "an | DET | determiner\n",
            "annual | ADJ | adjective\n",
            "revenue | NOUN | noun\n",
            "run | NOUN | noun\n",
            "rate | NOUN | noun\n",
            "of | ADP | adposition\n",
            "$ | SYM | symbol\n",
            "13 | NUM | numeral\n",
            "billion | NUM | numeral\n",
            "up | ADV | adverb\n",
            "175 | NUM | numeral\n",
            "% | NOUN | noun\n",
            "year | NOUN | noun\n",
            "over | ADP | adposition\n",
            "year | NOUN | noun\n",
            "This | DET | determiner\n",
            "quarter | NOUN | noun\n",
            "Microsoft | PROPN | proper noun\n",
            "Cloud | PROPN | proper noun\n",
            "revenue | NOUN | noun\n",
            "was | AUX | auxiliary\n",
            "$ | SYM | symbol\n",
            "40.9 | NUM | numeral\n",
            "billion | NUM | numeral\n",
            "up | ADV | adverb\n",
            "21 | NUM | numeral\n",
            "% | NOUN | noun\n",
            "year | NOUN | noun\n",
            "over | ADP | adposition\n",
            "year | NOUN | noun\n",
            "said | VERB | verb\n",
            "Amy | PROPN | proper noun\n",
            "Hood | PROPN | proper noun\n",
            "executive | ADJ | adjective\n",
            "vice | NOUN | noun\n",
            "president | NOUN | noun\n",
            "and | CCONJ | coordinating conjunction\n",
            "chief | ADJ | adjective\n",
            "financial | ADJ | adjective\n",
            "officer | NOUN | noun\n",
            "of | ADP | adposition\n",
            "Microsoft | PROPN | proper noun\n",
            "We | PRON | pronoun\n",
            "remain | VERB | verb\n",
            "committed | ADJ | adjective\n",
            "to | ADP | adposition\n",
            "balancing | VERB | verb\n",
            "operational | ADJ | adjective\n",
            "discipline | NOUN | noun\n",
            "with | ADP | adposition\n",
            "continued | VERB | verb\n",
            "investments | NOUN | noun\n",
            "in | ADP | adposition\n",
            "our | PRON | pronoun\n",
            "cloud | NOUN | noun\n",
            "and | CCONJ | coordinating conjunction\n",
            "AI | PROPN | proper noun\n",
            "infrastructure | NOUN | noun\n"
          ]
        }
      ]
    },
    {
      "cell_type": "code",
      "source": [
        "#save updated char\n",
        "filter_sen = []\n",
        "for token in doc:\n",
        "  if token.pos_ not in [\"SPACE\", \"PUNCT\", \"X\"]:\n",
        "    filter_sen.append(token)"
      ],
      "metadata": {
        "id": "sGrb9sScG9R_"
      },
      "execution_count": null,
      "outputs": []
    },
    {
      "cell_type": "code",
      "source": [
        "filter_sen[:10]"
      ],
      "metadata": {
        "colab": {
          "base_uri": "https://localhost:8080/"
        },
        "id": "chhqdTkHHKuE",
        "outputId": "39160df0-6023-4434-fa67-eb663c0cc71f"
      },
      "execution_count": null,
      "outputs": [
        {
          "output_type": "execute_result",
          "data": {
            "text/plain": [
              "[Microsoft,\n",
              " Corp.,\n",
              " today,\n",
              " announced,\n",
              " the,\n",
              " following,\n",
              " results,\n",
              " for,\n",
              " the,\n",
              " quarter]"
            ]
          },
          "metadata": {},
          "execution_count": 29
        }
      ]
    },
    {
      "cell_type": "code",
      "source": [
        "count = doc.count_by(spacy.attrs.POS)\n",
        "count"
      ],
      "metadata": {
        "colab": {
          "base_uri": "https://localhost:8080/"
        },
        "id": "Ydd3KfYMHm2t",
        "outputId": "a86e684c-7b60-48ca-ee6b-dc0c3c6b0575"
      },
      "execution_count": null,
      "outputs": [
        {
          "output_type": "execute_result",
          "data": {
            "text/plain": [
              "{103: 11,\n",
              " 96: 15,\n",
              " 92: 42,\n",
              " 100: 19,\n",
              " 90: 7,\n",
              " 85: 15,\n",
              " 93: 20,\n",
              " 97: 32,\n",
              " 98: 1,\n",
              " 84: 15,\n",
              " 87: 7,\n",
              " 99: 6,\n",
              " 89: 8,\n",
              " 86: 5,\n",
              " 95: 5,\n",
              " 94: 1,\n",
              " 101: 1}"
            ]
          },
          "metadata": {},
          "execution_count": 33
        }
      ]
    },
    {
      "cell_type": "code",
      "source": [
        "doc.vocab[103].text"
      ],
      "metadata": {
        "colab": {
          "base_uri": "https://localhost:8080/",
          "height": 36
        },
        "id": "XL9yzTIeHx13",
        "outputId": "a124cc6a-94ab-417b-995e-0657e13e2a33"
      },
      "execution_count": null,
      "outputs": [
        {
          "output_type": "execute_result",
          "data": {
            "text/plain": [
              "'SPACE'"
            ],
            "application/vnd.google.colaboratory.intrinsic+json": {
              "type": "string"
            }
          },
          "metadata": {},
          "execution_count": 31
        }
      ]
    },
    {
      "cell_type": "code",
      "source": [
        "for i,j in count.items():\n",
        "  print(doc.vocab[i].text, \"|\", spacy.explain(doc.vocab[i].text), \"|\", j)"
      ],
      "metadata": {
        "colab": {
          "base_uri": "https://localhost:8080/"
        },
        "id": "znWixZ8vIyk_",
        "outputId": "a158144c-aa07-4ab3-d7c7-82e2a8aa3fe8"
      },
      "execution_count": null,
      "outputs": [
        {
          "output_type": "stream",
          "name": "stdout",
          "text": [
            "SPACE | space | 11\n",
            "PROPN | proper noun | 15\n",
            "NOUN | noun | 42\n",
            "VERB | verb | 19\n",
            "DET | determiner | 7\n",
            "ADP | adposition | 15\n",
            "NUM | numeral | 20\n",
            "PUNCT | punctuation | 32\n",
            "SCONJ | subordinating conjunction | 1\n",
            "ADJ | adjective | 15\n",
            "AUX | auxiliary | 7\n",
            "SYM | symbol | 6\n",
            "CCONJ | coordinating conjunction | 8\n",
            "ADV | adverb | 5\n",
            "PRON | pronoun | 5\n",
            "PART | particle | 1\n",
            "X | other | 1\n"
          ]
        }
      ]
    }
  ]
}