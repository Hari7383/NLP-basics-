{
  "nbformat": 4,
  "nbformat_minor": 0,
  "metadata": {
    "colab": {
      "provenance": []
    },
    "kernelspec": {
      "name": "python3",
      "display_name": "Python 3"
    },
    "language_info": {
      "name": "python"
    }
  },
  "cells": [
    {
      "cell_type": "code",
      "execution_count": null,
      "metadata": {
        "id": "6kiW4bV9do7O"
      },
      "outputs": [],
      "source": [
        "import spacy"
      ]
    },
    {
      "cell_type": "code",
      "source": [
        "nlp = spacy.load(\"en_core_web_sm\")\n",
        "txt = nlp('''\"let's go to N.Y.!\"''')"
      ],
      "metadata": {
        "id": "egkFxfdxdsA9"
      },
      "execution_count": null,
      "outputs": []
    },
    {
      "cell_type": "code",
      "source": [
        "for sen in txt.sents:\n",
        "  for word in sen:\n",
        "    print(word)\n",
        "  print(sen)"
      ],
      "metadata": {
        "colab": {
          "base_uri": "https://localhost:8080/"
        },
        "id": "A7mQqvp2eCGy",
        "outputId": "669f9a0d-a777-4d20-9221-15226dc4d976"
      },
      "execution_count": null,
      "outputs": [
        {
          "output_type": "stream",
          "name": "stdout",
          "text": [
            "\"\n",
            "let\n",
            "'s\n",
            "go\n",
            "to\n",
            "N.Y.\n",
            "!\n",
            "\"\n",
            "\"let's go to N.Y.!\"\n"
          ]
        }
      ]
    },
    {
      "cell_type": "code",
      "source": [
        "txt[:]"
      ],
      "metadata": {
        "colab": {
          "base_uri": "https://localhost:8080/"
        },
        "id": "4Z4axST1ffCS",
        "outputId": "dea6719f-4ca4-4472-c908-8650cd08955e"
      },
      "execution_count": null,
      "outputs": [
        {
          "output_type": "execute_result",
          "data": {
            "text/plain": [
              "\"let's go to N.Y.!\""
            ]
          },
          "metadata": {},
          "execution_count": 28
        }
      ]
    },
    {
      "cell_type": "code",
      "source": [
        "nlp2 = spacy.blank(\"en\")\n",
        "txt2 = nlp2('''\"let's go to N.Y.!\"''')\n",
        "txt2"
      ],
      "metadata": {
        "colab": {
          "base_uri": "https://localhost:8080/"
        },
        "id": "aERU_w06eavQ",
        "outputId": "5a82a14e-c70e-4f98-f68b-3a7a2f06fc6c"
      },
      "execution_count": null,
      "outputs": [
        {
          "output_type": "execute_result",
          "data": {
            "text/plain": [
              "\"let's go to N.Y.!\""
            ]
          },
          "metadata": {},
          "execution_count": 14
        }
      ]
    },
    {
      "cell_type": "code",
      "source": [
        "for sen in txt2:\n",
        "  print(sen)"
      ],
      "metadata": {
        "colab": {
          "base_uri": "https://localhost:8080/"
        },
        "id": "Pyps6zgIemAc",
        "outputId": "35bc7f08-ff17-4c17-92f0-498e31c8c000"
      },
      "execution_count": null,
      "outputs": [
        {
          "output_type": "stream",
          "name": "stdout",
          "text": [
            "\"\n",
            "let\n",
            "'s\n",
            "go\n",
            "to\n",
            "N.Y.\n",
            "!\n",
            "\"\n"
          ]
        }
      ]
    },
    {
      "cell_type": "code",
      "source": [
        "with open(\"sample_txt.txt\") as f:\n",
        "  text = f.readlines()\n",
        "text"
      ],
      "metadata": {
        "colab": {
          "base_uri": "https://localhost:8080/"
        },
        "id": "YuVAF2J1i9le",
        "outputId": "0557d330-dfdf-40af-a029-bb31463d51d2"
      },
      "execution_count": null,
      "outputs": [
        {
          "output_type": "execute_result",
          "data": {
            "text/plain": [
              "[\"Email Virat Kohli at virat.kohli@gmail.com. This email is the most updated Virat Kohli's email found in 2025.\\n\",\n",
              " '\\n',\n",
              " \"this ia doni's email info@doni-ing.com, haki.avdiu@doni-ing.com\\n\",\n",
              " '\\n',\n",
              " \"Doni's personal email address is doni@gmail.com\"]"
            ]
          },
          "metadata": {},
          "execution_count": 10
        }
      ]
    },
    {
      "cell_type": "code",
      "source": [
        "text = ''.join(text)\n",
        "text"
      ],
      "metadata": {
        "colab": {
          "base_uri": "https://localhost:8080/",
          "height": 53
        },
        "id": "MHKXIU0FjKdr",
        "outputId": "68d5683d-f310-4564-8bb8-b6ca112e08b1"
      },
      "execution_count": null,
      "outputs": [
        {
          "output_type": "execute_result",
          "data": {
            "text/plain": [
              "\"Email Virat Kohli at virat.kohli@gmail.com. This email is the most updated Virat Kohli's email found in 2025.\\n\\nthis ia doni's email info@doni-ing.com, haki.avdiu@doni-ing.com\\n\\nDoni's personal email address is doni@gmail.com\""
            ],
            "application/vnd.google.colaboratory.intrinsic+json": {
              "type": "string"
            }
          },
          "metadata": {},
          "execution_count": 11
        }
      ]
    },
    {
      "cell_type": "code",
      "source": [
        "doc = nlp(text)\n",
        "email = []\n",
        "for token in doc:\n",
        "  if token.like_email:\n",
        "    email.append(token.text)\n",
        "email"
      ],
      "metadata": {
        "colab": {
          "base_uri": "https://localhost:8080/"
        },
        "id": "Fykh1JegjQV_",
        "outputId": "462e9829-2336-430e-8643-f9c50f0d2f32"
      },
      "execution_count": null,
      "outputs": [
        {
          "output_type": "execute_result",
          "data": {
            "text/plain": [
              "['virat.kohli@gmail.com',\n",
              " 'info@doni-ing.com',\n",
              " 'haki.avdiu@doni-ing.com',\n",
              " 'doni@gmail.com']"
            ]
          },
          "metadata": {},
          "execution_count": 12
        }
      ]
    },
    {
      "cell_type": "code",
      "source": [
        "with open(\"sample_txt.txt\") as f:\n",
        "  text = f.readlines()\n",
        "text"
      ],
      "metadata": {
        "colab": {
          "base_uri": "https://localhost:8080/"
        },
        "id": "XqonYckGuHf1",
        "outputId": "51522b6a-3aee-4f7b-906d-93c52d033905"
      },
      "execution_count": null,
      "outputs": [
        {
          "output_type": "execute_result",
          "data": {
            "text/plain": [
              "[\"Email Virat Kohli at virat.kohli@gmail.com. This email is the most updated Virat Kohli's email found in 2025.\\n\",\n",
              " '\\n',\n",
              " \"this ia doni's email info@doni-ing.com, haki.avdiu@doni-ing.com\\n\",\n",
              " '\\n',\n",
              " \"Doni's personal email address is doni@gmail.com\\n\",\n",
              " '\\n',\n",
              " 'ther are example wesite example.com, \\n',\n",
              " 'google.com, \\n',\n",
              " 'youtube.com, \\n',\n",
              " 'facebook.com, \\n',\n",
              " 'instagram.com, \\n',\n",
              " 'amazon.com, \\n',\n",
              " 'wikipedia.org.']"
            ]
          },
          "metadata": {},
          "execution_count": 23
        }
      ]
    },
    {
      "cell_type": "code",
      "source": [
        "text = ''.join(text)\n",
        "text"
      ],
      "metadata": {
        "colab": {
          "base_uri": "https://localhost:8080/",
          "height": 70
        },
        "id": "txYHzbyWu8CE",
        "outputId": "49fdcaf2-d8ce-426b-9ff4-0b3f7672101c"
      },
      "execution_count": null,
      "outputs": [
        {
          "output_type": "execute_result",
          "data": {
            "text/plain": [
              "\"Email Virat Kohli at virat.kohli@gmail.com. This email is the most updated Virat Kohli's email found in 2025.\\n\\nthis ia doni's email info@doni-ing.com, haki.avdiu@doni-ing.com\\n\\nDoni's personal email address is doni@gmail.com\\n\\nther are example wesite example.com, \\ngoogle.com, \\nyoutube.com, \\nfacebook.com, \\ninstagram.com, \\namazon.com, \\nwikipedia.org.\""
            ],
            "application/vnd.google.colaboratory.intrinsic+json": {
              "type": "string"
            }
          },
          "metadata": {},
          "execution_count": 24
        }
      ]
    },
    {
      "cell_type": "code",
      "source": [
        "txt = nlp(text)\n",
        "\n",
        "web = []\n",
        "for token in txt:\n",
        "  if token.like_url:\n",
        "    web.append(token.text)\n",
        "web"
      ],
      "metadata": {
        "colab": {
          "base_uri": "https://localhost:8080/"
        },
        "id": "if32rPOxvJoz",
        "outputId": "dae59d85-ac37-449f-eca3-f74c6c627cdf"
      },
      "execution_count": null,
      "outputs": [
        {
          "output_type": "execute_result",
          "data": {
            "text/plain": [
              "['example.com',\n",
              " 'google.com',\n",
              " 'youtube.com',\n",
              " 'facebook.com',\n",
              " 'instagram.com',\n",
              " 'amazon.com',\n",
              " 'wikipedia.org']"
            ]
          },
          "metadata": {},
          "execution_count": 27
        }
      ]
    },
    {
      "cell_type": "code",
      "source": [
        "nlp = spacy.blank(\"en\")\n",
        "doc = nlp(\"Captain america ate 100$ of samosa, then he said I can do this all day\")\n",
        "for token in doc:\n",
        "  print(token, \" | \", token.pos_, \" | \", token.lemma_)"
      ],
      "metadata": {
        "colab": {
          "base_uri": "https://localhost:8080/"
        },
        "id": "Uj5DN9V_G8op",
        "outputId": "260b3055-56a9-4219-cd4b-9aaeed627251"
      },
      "execution_count": null,
      "outputs": [
        {
          "output_type": "stream",
          "name": "stdout",
          "text": [
            "Captain  |    |  \n",
            "america  |    |  \n",
            "ate  |    |  \n",
            "100  |    |  \n",
            "$  |    |  \n",
            "of  |    |  \n",
            "samosa  |    |  \n",
            ",  |    |  \n",
            "then  |    |  \n",
            "he  |    |  \n",
            "said  |    |  \n",
            "I  |    |  \n",
            "can  |    |  \n",
            "do  |    |  \n",
            "this  |    |  \n",
            "all  |    |  \n",
            "day  |    |  \n"
          ]
        }
      ]
    },
    {
      "cell_type": "code",
      "source": [
        "nlp = spacy.blank(\"en\")\n",
        "doc = nlp(\"Captain america ate 100$ of samosa, then he said I can do this all day\")\n",
        "for token in doc:\n",
        "  print(token, \" | \", spacy.explain(token.pos_), \" | \", token.lemma_)"
      ],
      "metadata": {
        "colab": {
          "base_uri": "https://localhost:8080/"
        },
        "id": "HNIIzi-aG3_d",
        "outputId": "b6a21170-ca3b-484a-ce07-01deadea63cb"
      },
      "execution_count": null,
      "outputs": [
        {
          "output_type": "stream",
          "name": "stdout",
          "text": [
            "Captain  |  None  |  \n",
            "america  |  None  |  \n",
            "ate  |  None  |  \n",
            "100  |  None  |  \n",
            "$  |  None  |  \n",
            "of  |  None  |  \n",
            "samosa  |  None  |  \n",
            ",  |  None  |  \n",
            "then  |  None  |  \n",
            "he  |  None  |  \n",
            "said  |  None  |  \n",
            "I  |  None  |  \n",
            "can  |  None  |  \n",
            "do  |  None  |  \n",
            "this  |  None  |  \n",
            "all  |  None  |  \n",
            "day  |  None  |  \n"
          ]
        }
      ]
    },
    {
      "cell_type": "code",
      "source": [
        "nlp = spacy.load(\"en_core_web_sm\")\n",
        "doc = nlp(\"Captain america ate 100$ of samosa, then he said I can do this all day\")"
      ],
      "metadata": {
        "id": "dA0cW79_7_2u"
      },
      "execution_count": null,
      "outputs": []
    },
    {
      "cell_type": "code",
      "source": [
        "nlp.pipeline"
      ],
      "metadata": {
        "colab": {
          "base_uri": "https://localhost:8080/"
        },
        "id": "zHpSF4EK817b",
        "outputId": "bb0a0f37-0573-4e54-80ec-8d204931f66e"
      },
      "execution_count": null,
      "outputs": [
        {
          "output_type": "execute_result",
          "data": {
            "text/plain": [
              "[('tok2vec', <spacy.pipeline.tok2vec.Tok2Vec at 0x7d5498cb9d30>),\n",
              " ('tagger', <spacy.pipeline.tagger.Tagger at 0x7d5597b71670>),\n",
              " ('parser', <spacy.pipeline.dep_parser.DependencyParser at 0x7d55311c73e0>),\n",
              " ('attribute_ruler',\n",
              "  <spacy.pipeline.attributeruler.AttributeRuler at 0x7d55972fded0>),\n",
              " ('lemmatizer',\n",
              "  <spacy.lang.en.lemmatizer.EnglishLemmatizer at 0x7d5498ab2710>),\n",
              " ('ner', <spacy.pipeline.ner.EntityRecognizer at 0x7d54e150c9e0>)]"
            ]
          },
          "metadata": {},
          "execution_count": 3
        }
      ]
    },
    {
      "cell_type": "code",
      "source": [
        "nlp.pipe_names"
      ],
      "metadata": {
        "colab": {
          "base_uri": "https://localhost:8080/"
        },
        "id": "ZdUVCILb9UHU",
        "outputId": "066c2be0-7ce7-4b42-d355-8a04bb2ec0ce"
      },
      "execution_count": null,
      "outputs": [
        {
          "output_type": "execute_result",
          "data": {
            "text/plain": [
              "['tok2vec', 'tagger', 'parser', 'attribute_ruler', 'lemmatizer', 'ner']"
            ]
          },
          "metadata": {},
          "execution_count": 6
        }
      ]
    },
    {
      "cell_type": "code",
      "source": [
        "for token in doc:\n",
        "  print(token, \" | \", token.pos_, \" | \", token.lemma_)"
      ],
      "metadata": {
        "colab": {
          "base_uri": "https://localhost:8080/"
        },
        "id": "qLaTbK0A9GfU",
        "outputId": "a5426ecf-6545-4c3d-bc95-17667c355bf4"
      },
      "execution_count": null,
      "outputs": [
        {
          "output_type": "stream",
          "name": "stdout",
          "text": [
            "Captain  |  PROPN  |  Captain\n",
            "america  |  PROPN  |  america\n",
            "ate  |  VERB  |  eat\n",
            "100  |  NUM  |  100\n",
            "$  |  NUM  |  $\n",
            "of  |  ADP  |  of\n",
            "samosa  |  PROPN  |  samosa\n",
            ",  |  PUNCT  |  ,\n",
            "then  |  ADV  |  then\n",
            "he  |  PRON  |  he\n",
            "said  |  VERB  |  say\n",
            "I  |  PRON  |  I\n",
            "can  |  AUX  |  can\n",
            "do  |  VERB  |  do\n",
            "this  |  PRON  |  this\n",
            "all  |  DET  |  all\n",
            "day  |  NOUN  |  day\n"
          ]
        }
      ]
    },
    {
      "cell_type": "code",
      "source": [
        "for token in doc:\n",
        "  print(token, \" | \", spacy.explain(token.pos_), \" | \", token.lemma_)"
      ],
      "metadata": {
        "colab": {
          "base_uri": "https://localhost:8080/"
        },
        "id": "xEZYXqn_87j6",
        "outputId": "8919392b-3a88-4c71-9adb-b21b4752c1c6"
      },
      "execution_count": null,
      "outputs": [
        {
          "output_type": "stream",
          "name": "stdout",
          "text": [
            "Captain  |  proper noun  |  Captain\n",
            "america  |  proper noun  |  america\n",
            "ate  |  verb  |  eat\n",
            "100  |  numeral  |  100\n",
            "$  |  numeral  |  $\n",
            "of  |  adposition  |  of\n",
            "samosa  |  proper noun  |  samosa\n",
            ",  |  punctuation  |  ,\n",
            "then  |  adverb  |  then\n",
            "he  |  pronoun  |  he\n",
            "said  |  verb  |  say\n",
            "I  |  pronoun  |  I\n",
            "can  |  auxiliary  |  can\n",
            "do  |  verb  |  do\n",
            "this  |  pronoun  |  this\n",
            "all  |  determiner  |  all\n",
            "day  |  noun  |  day\n"
          ]
        }
      ]
    },
    {
      "cell_type": "code",
      "source": [
        "doc = nlp(\"Tesla Inc is going to acquire twitter for $45 billion\")\n",
        "for ent in doc.ents:\n",
        "  print(ent.text, \" | \", ent.label_)"
      ],
      "metadata": {
        "colab": {
          "base_uri": "https://localhost:8080/"
        },
        "id": "cqx3C3OR9pro",
        "outputId": "0cc13a07-ceec-495a-b8f7-12974fcc6fb1"
      },
      "execution_count": null,
      "outputs": [
        {
          "output_type": "stream",
          "name": "stdout",
          "text": [
            "Tesla Inc  |  ORG\n",
            "$45 billion  |  MONEY\n"
          ]
        }
      ]
    },
    {
      "cell_type": "code",
      "source": [
        "doc = nlp(\"Tesla Inc is going to acquire twitter for $45 billion\")\n",
        "for ent in doc.ents:\n",
        "  print(ent.text, \" | \", ent.label_, \" | \", spacy.explain(ent.label_))"
      ],
      "metadata": {
        "colab": {
          "base_uri": "https://localhost:8080/"
        },
        "id": "SEQ14gvq9wRR",
        "outputId": "9a3dab5a-bfab-4224-a3be-bf702f24f1ce"
      },
      "execution_count": null,
      "outputs": [
        {
          "output_type": "stream",
          "name": "stdout",
          "text": [
            "Tesla Inc  |  ORG  |  Companies, agencies, institutions, etc.\n",
            "$45 billion  |  MONEY  |  Monetary values, including unit\n"
          ]
        }
      ]
    },
    {
      "cell_type": "code",
      "source": [
        "from spacy import displacy\n",
        "\n",
        "displacy.render(doc, style=\"ent\")"
      ],
      "metadata": {
        "colab": {
          "base_uri": "https://localhost:8080/",
          "height": 52
        },
        "id": "Fr5qab0NApb6",
        "outputId": "ef175cf9-9d6e-40a5-b146-ecdd158cd816"
      },
      "execution_count": null,
      "outputs": [
        {
          "output_type": "display_data",
          "data": {
            "text/plain": [
              "<IPython.core.display.HTML object>"
            ],
            "text/html": [
              "<span class=\"tex2jax_ignore\"><div class=\"entities\" style=\"line-height: 2.5; direction: ltr\">\n",
              "<mark class=\"entity\" style=\"background: #7aecec; padding: 0.45em 0.6em; margin: 0 0.25em; line-height: 1; border-radius: 0.35em;\">\n",
              "    Tesla Inc\n",
              "    <span style=\"font-size: 0.8em; font-weight: bold; line-height: 1; border-radius: 0.35em; vertical-align: middle; margin-left: 0.5rem\">ORG</span>\n",
              "</mark>\n",
              " is going to acquire twitter for \n",
              "<mark class=\"entity\" style=\"background: #e4e7d2; padding: 0.45em 0.6em; margin: 0 0.25em; line-height: 1; border-radius: 0.35em;\">\n",
              "    $45 billion\n",
              "    <span style=\"font-size: 0.8em; font-weight: bold; line-height: 1; border-radius: 0.35em; vertical-align: middle; margin-left: 0.5rem\">MONEY</span>\n",
              "</mark>\n",
              "</div></span>"
            ]
          },
          "metadata": {}
        }
      ]
    },
    {
      "cell_type": "code",
      "source": [
        "doc = nlp(\"Tesla Inc is going to acquire Twitter for $45 billion\")\n",
        "for ent in doc.ents:\n",
        "  print(ent.text, \" | \", ent.label_, \" | \", spacy.explain(ent.label_))"
      ],
      "metadata": {
        "colab": {
          "base_uri": "https://localhost:8080/"
        },
        "id": "pK0WkPcmFvoJ",
        "outputId": "8b8bae59-d9e1-4fd0-b472-f6bc0b3c7a47"
      },
      "execution_count": null,
      "outputs": [
        {
          "output_type": "stream",
          "name": "stdout",
          "text": [
            "Tesla Inc  |  ORG  |  Companies, agencies, institutions, etc.\n",
            "Twitter  |  PERSON  |  People, including fictional\n",
            "$45 billion  |  MONEY  |  Monetary values, including unit\n"
          ]
        }
      ]
    },
    {
      "cell_type": "code",
      "source": [
        "from spacy import displacy\n",
        "\n",
        "displacy.render(doc, style=\"ent\")"
      ],
      "metadata": {
        "colab": {
          "base_uri": "https://localhost:8080/",
          "height": 52
        },
        "id": "qKeVN8j9Fy_Z",
        "outputId": "9d5ed13e-6371-4e52-aa58-e169ceb328f0"
      },
      "execution_count": null,
      "outputs": [
        {
          "output_type": "display_data",
          "data": {
            "text/plain": [
              "<IPython.core.display.HTML object>"
            ],
            "text/html": [
              "<span class=\"tex2jax_ignore\"><div class=\"entities\" style=\"line-height: 2.5; direction: ltr\">\n",
              "<mark class=\"entity\" style=\"background: #7aecec; padding: 0.45em 0.6em; margin: 0 0.25em; line-height: 1; border-radius: 0.35em;\">\n",
              "    Tesla Inc\n",
              "    <span style=\"font-size: 0.8em; font-weight: bold; line-height: 1; border-radius: 0.35em; vertical-align: middle; margin-left: 0.5rem\">ORG</span>\n",
              "</mark>\n",
              " is going to acquire \n",
              "<mark class=\"entity\" style=\"background: #aa9cfc; padding: 0.45em 0.6em; margin: 0 0.25em; line-height: 1; border-radius: 0.35em;\">\n",
              "    Twitter\n",
              "    <span style=\"font-size: 0.8em; font-weight: bold; line-height: 1; border-radius: 0.35em; vertical-align: middle; margin-left: 0.5rem\">PERSON</span>\n",
              "</mark>\n",
              " for \n",
              "<mark class=\"entity\" style=\"background: #e4e7d2; padding: 0.45em 0.6em; margin: 0 0.25em; line-height: 1; border-radius: 0.35em;\">\n",
              "    $45 billion\n",
              "    <span style=\"font-size: 0.8em; font-weight: bold; line-height: 1; border-radius: 0.35em; vertical-align: middle; margin-left: 0.5rem\">MONEY</span>\n",
              "</mark>\n",
              "</div></span>"
            ]
          },
          "metadata": {}
        }
      ]
    },
    {
      "cell_type": "code",
      "source": [
        "source_nlp = spacy.load(\"en_core_web_sm\")\n",
        "nlp = spacy.blank(\"en\")\n",
        "nlp.add_pipe(\"ner\", source = source_nlp)\n",
        "nlp.pipe_names"
      ],
      "metadata": {
        "colab": {
          "base_uri": "https://localhost:8080/"
        },
        "id": "u0-Y1uzwA0cG",
        "outputId": "6cd12a25-70e3-4802-e18c-b4e51e52b8a8"
      },
      "execution_count": null,
      "outputs": [
        {
          "output_type": "execute_result",
          "data": {
            "text/plain": [
              "['ner']"
            ]
          },
          "metadata": {},
          "execution_count": 2
        }
      ]
    },
    {
      "cell_type": "code",
      "source": [
        "doc = nlp(\"Tesla Inc is going to acquire Twitter for $45 billion\")\n",
        "\n",
        "for ent in doc.ents:\n",
        "  print(ent.text, \" | \", ent.label_, \" | \", spacy.explain(ent.label_))"
      ],
      "metadata": {
        "colab": {
          "base_uri": "https://localhost:8080/"
        },
        "id": "cRpzzGrgDl2K",
        "outputId": "87e186bb-e186-46f6-a658-9d85e12635d8"
      },
      "execution_count": null,
      "outputs": [
        {
          "output_type": "stream",
          "name": "stdout",
          "text": [
            "Tesla Inc  |  ORG  |  Companies, agencies, institutions, etc.\n",
            "Twitter  |  PERSON  |  People, including fictional\n",
            "$45 billion  |  MONEY  |  Monetary values, including unit\n"
          ]
        }
      ]
    },
    {
      "cell_type": "code",
      "source": [
        "import nltk\n",
        "import spacy\n",
        "from nltk.stem import PorterStemmer"
      ],
      "metadata": {
        "id": "zO0V8KZpHPrz"
      },
      "execution_count": null,
      "outputs": []
    },
    {
      "cell_type": "code",
      "source": [
        "stemmer = PorterStemmer()\n",
        "\n",
        "worg = (\"eating\", \"eats\", \"eat\", \"ate\", \"adjustable\", \"rafting\", \"ability\", \"meeting\", \"better\")\n",
        "\n",
        "for word in worg:\n",
        "  print(word, \" | \", stemmer.stem(word))"
      ],
      "metadata": {
        "colab": {
          "base_uri": "https://localhost:8080/"
        },
        "id": "Mm8qML7_aCUk",
        "outputId": "747cd63d-3b23-4d86-e91e-83261f9682e4"
      },
      "execution_count": null,
      "outputs": [
        {
          "output_type": "stream",
          "name": "stdout",
          "text": [
            "eating  |  eat\n",
            "eats  |  eat\n",
            "eat  |  eat\n",
            "ate  |  ate\n",
            "adjustable  |  adjust\n",
            "rafting  |  raft\n",
            "ability  |  abil\n",
            "meeting  |  meet\n",
            "better  |  better\n"
          ]
        }
      ]
    },
    {
      "cell_type": "code",
      "source": [
        "worg = (\"eating eats eat ate adjustable rafting ability meeting better\")\n",
        "\n",
        "for word in worg:\n",
        "  print(word, \" | \", stemmer.stem(word))"
      ],
      "metadata": {
        "colab": {
          "base_uri": "https://localhost:8080/"
        },
        "id": "fyxasmh6bHVY",
        "outputId": "2a5af590-752c-488d-faa7-a09ebd710cf1"
      },
      "execution_count": null,
      "outputs": [
        {
          "output_type": "stream",
          "name": "stdout",
          "text": [
            "e  |  e\n",
            "a  |  a\n",
            "t  |  t\n",
            "i  |  i\n",
            "n  |  n\n",
            "g  |  g\n",
            "   |   \n",
            "e  |  e\n",
            "a  |  a\n",
            "t  |  t\n",
            "s  |  s\n",
            "   |   \n",
            "e  |  e\n",
            "a  |  a\n",
            "t  |  t\n",
            "   |   \n",
            "a  |  a\n",
            "t  |  t\n",
            "e  |  e\n",
            "   |   \n",
            "a  |  a\n",
            "d  |  d\n",
            "j  |  j\n",
            "u  |  u\n",
            "s  |  s\n",
            "t  |  t\n",
            "a  |  a\n",
            "b  |  b\n",
            "l  |  l\n",
            "e  |  e\n",
            "   |   \n",
            "r  |  r\n",
            "a  |  a\n",
            "f  |  f\n",
            "t  |  t\n",
            "i  |  i\n",
            "n  |  n\n",
            "g  |  g\n",
            "   |   \n",
            "a  |  a\n",
            "b  |  b\n",
            "i  |  i\n",
            "l  |  l\n",
            "i  |  i\n",
            "t  |  t\n",
            "y  |  y\n",
            "   |   \n",
            "m  |  m\n",
            "e  |  e\n",
            "e  |  e\n",
            "t  |  t\n",
            "i  |  i\n",
            "n  |  n\n",
            "g  |  g\n",
            "   |   \n",
            "b  |  b\n",
            "e  |  e\n",
            "t  |  t\n",
            "t  |  t\n",
            "e  |  e\n",
            "r  |  r\n"
          ]
        }
      ]
    },
    {
      "cell_type": "code",
      "source": [
        "nlp = spacy.load(\"en_core_web_sm\")\n",
        "doc = nlp(\"eating eats eat ate adjustable rafting ability meeting better\")\n",
        "\n",
        "for word in doc:\n",
        "  print(word, \" | \", word.lemma_, \" | \", word.lemma)"
      ],
      "metadata": {
        "colab": {
          "base_uri": "https://localhost:8080/"
        },
        "id": "4q1gEhm4aujx",
        "outputId": "95beec13-1aec-4b5f-d5c6-a5609ea0c80f"
      },
      "execution_count": null,
      "outputs": [
        {
          "output_type": "stream",
          "name": "stdout",
          "text": [
            "eating  |  eat  |  9837207709914848172\n",
            "eats  |  eat  |  9837207709914848172\n",
            "eat  |  eat  |  9837207709914848172\n",
            "ate  |  eat  |  9837207709914848172\n",
            "adjustable  |  adjustable  |  6033511944150694480\n",
            "rafting  |  raft  |  7154368781129989833\n",
            "ability  |  ability  |  11565809527369121409\n",
            "meeting  |  meet  |  6880656908171229526\n",
            "better  |  well  |  4525988469032889948\n"
          ]
        }
      ]
    },
    {
      "cell_type": "code",
      "source": [
        "doc = nlp(\"Bro, you wanna go? Brah, don't say no! I am exhausted\")\n",
        "for word in doc:\n",
        "  print(word, \" | \", word.lemma_)"
      ],
      "metadata": {
        "colab": {
          "base_uri": "https://localhost:8080/"
        },
        "id": "PljfKFE6dZDO",
        "outputId": "233e33b6-2071-48b3-cd86-a0a2f17047a9"
      },
      "execution_count": null,
      "outputs": [
        {
          "output_type": "stream",
          "name": "stdout",
          "text": [
            "Bro  |  Bro\n",
            ",  |  ,\n",
            "you  |  you\n",
            "wanna  |  wanna\n",
            "go  |  go\n",
            "?  |  ?\n",
            "Brah  |  Brah\n",
            ",  |  ,\n",
            "do  |  do\n",
            "n't  |  not\n",
            "say  |  say\n",
            "no  |  no\n",
            "!  |  !\n",
            "I  |  I\n",
            "am  |  be\n",
            "exhausted  |  exhaust\n"
          ]
        }
      ]
    },
    {
      "cell_type": "code",
      "source": [
        "nlp.pipeline"
      ],
      "metadata": {
        "colab": {
          "base_uri": "https://localhost:8080/"
        },
        "id": "Gw7hwytGc4Ni",
        "outputId": "d2029ddb-b150-4412-acc0-716edcdb6ab6"
      },
      "execution_count": null,
      "outputs": [
        {
          "output_type": "execute_result",
          "data": {
            "text/plain": [
              "[('tok2vec', <spacy.pipeline.tok2vec.Tok2Vec at 0x7d74ef3d0050>),\n",
              " ('tagger', <spacy.pipeline.tagger.Tagger at 0x7d74ef3d0230>),\n",
              " ('parser', <spacy.pipeline.dep_parser.DependencyParser at 0x7d74ef322490>),\n",
              " ('attribute_ruler',\n",
              "  <spacy.pipeline.attributeruler.AttributeRuler at 0x7d74eecf4110>),\n",
              " ('lemmatizer',\n",
              "  <spacy.lang.en.lemmatizer.EnglishLemmatizer at 0x7d74ec4995d0>),\n",
              " ('ner', <spacy.pipeline.ner.EntityRecognizer at 0x7d75ab7a1310>)]"
            ]
          },
          "metadata": {},
          "execution_count": 8
        }
      ]
    },
    {
      "cell_type": "code",
      "source": [
        "#Custamize (Bro = Brother, Brah = Brother) using 'attribute_ruler'\n",
        "ar = nlp.get_pipe(\"attribute_ruler\")\n",
        "ar.add([[{\"TEXT\" : \"Bro\"}],[{\"TEXT\" : \"Brah\"}]], {\"LEMMA\" : \"Brother\"})\n",
        "\n",
        "doc = nlp(\"Bro, you wanna go? Brah, don't say no! I am exhausted\")\n",
        "for word in doc:\n",
        "  print(word, \" | \", word.lemma_)"
      ],
      "metadata": {
        "colab": {
          "base_uri": "https://localhost:8080/"
        },
        "id": "zjcsDF9EdmQS",
        "outputId": "d57ccf21-f9a9-4c48-a144-03f1aeb58a85"
      },
      "execution_count": null,
      "outputs": [
        {
          "output_type": "stream",
          "name": "stdout",
          "text": [
            "Bro  |  Brother\n",
            ",  |  ,\n",
            "you  |  you\n",
            "wanna  |  wanna\n",
            "go  |  go\n",
            "?  |  ?\n",
            "Brah  |  Brother\n",
            ",  |  ,\n",
            "do  |  do\n",
            "n't  |  not\n",
            "say  |  say\n",
            "no  |  no\n",
            "!  |  !\n",
            "I  |  I\n",
            "am  |  be\n",
            "exhausted  |  exhaust\n"
          ]
        }
      ]
    },
    {
      "cell_type": "code",
      "source": [
        "doc[0]"
      ],
      "metadata": {
        "colab": {
          "base_uri": "https://localhost:8080/"
        },
        "id": "T8Qu8Mt-fJxJ",
        "outputId": "6ca10e8c-9d1e-450c-ec59-48398f02e100"
      },
      "execution_count": null,
      "outputs": [
        {
          "output_type": "execute_result",
          "data": {
            "text/plain": [
              "Bro"
            ]
          },
          "metadata": {},
          "execution_count": 18
        }
      ]
    },
    {
      "cell_type": "code",
      "source": [
        "doc[0].lemma_"
      ],
      "metadata": {
        "colab": {
          "base_uri": "https://localhost:8080/",
          "height": 35
        },
        "id": "kEaP5FemfCh4",
        "outputId": "577de5b1-8fab-41c0-b3ef-5d7161a13994"
      },
      "execution_count": null,
      "outputs": [
        {
          "output_type": "execute_result",
          "data": {
            "text/plain": [
              "'Brother'"
            ],
            "application/vnd.google.colaboratory.intrinsic+json": {
              "type": "string"
            }
          },
          "metadata": {},
          "execution_count": 17
        }
      ]
    },
    {
      "cell_type": "code",
      "source": [],
      "metadata": {
        "id": "Ey7Wwj3ufMRN"
      },
      "execution_count": null,
      "outputs": []
    }
  ]
}